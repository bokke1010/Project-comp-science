{
 "cells": [
  {
   "cell_type": "markdown",
   "metadata": {},
   "source": [
    "# Analysis\n",
    "\n",
    "Below are shows the steps taken to accept or reject the $H_0$ hypothesis"
   ]
  },
  {
   "cell_type": "code",
   "execution_count": null,
   "metadata": {},
   "outputs": [],
   "source": [
    "import pandas as pd\n",
    "import numpy as np\n",
    "from matplotlib import pyplot as plt\n",
    "from scipy.stats import ttest_ind, f_oneway\n",
    "from parameters import *"
   ]
  },
  {
   "cell_type": "code",
   "execution_count": null,
   "metadata": {},
   "outputs": [],
   "source": [
    "def preform_t_test(df1, df2, column):\n",
    "    data1 = df1[column]\n",
    "    data2 = df2[column]\n",
    "    \n",
    "    t_statistic, p_value = ttest_ind(data1, data2)\n",
    "    return p_value\n"
   ]
  },
  {
   "cell_type": "markdown",
   "metadata": {},
   "source": [
    "## Tests for food per step"
   ]
  },
  {
   "cell_type": "code",
   "execution_count": null,
   "metadata": {},
   "outputs": [],
   "source": [
    "# load data\n",
    "df0_5_food = pd.read_csv(\"data/foodperstep=0.5.csv\", index_col=False, header=None)\n",
    "df1_5_food = pd.read_csv(\"data/foodperstep=1.5.csv\", index_col=False, header=None)\n",
    "df3_food = pd.read_csv(\"data/foodperstep=3.csv\", index_col=False, header=None)\n",
    "df6_food = pd.read_csv(\"data/foodperstep=6.csv\", index_col=False, header=None)"
   ]
  },
  {
   "cell_type": "code",
   "execution_count": null,
   "metadata": {},
   "outputs": [],
   "source": [
    "dfs = [df0_5_food, df1_5_food, df3_food, df6_food]\n",
    "dataset = [[preform_t_test(dfs[j], dfs[j+1], i) for i in range(19)] for j in range(3)]"
   ]
  },
  {
   "cell_type": "markdown",
   "metadata": {},
   "source": [
    "### T-test: food per step\n",
    "\n",
    "Create figure and save it"
   ]
  },
  {
   "cell_type": "code",
   "execution_count": null,
   "metadata": {},
   "outputs": [],
   "source": [
    "plt.plot(dataset[0], label = \"comparison foodstep of 0.5 and 1.5\")\n",
    "plt.plot(dataset[1], label = \"comparison foodstep of 1.5 and 3\")\n",
    "plt.plot(dataset[2], label = \"comparison foodstep of 3 and 6\")\n",
    "\n",
    "plt.xticks(np.arange(19))\n",
    "plt.title(\"T-test for different amount of neighbors among 2 indepentent groups\")\n",
    "plt.xlabel(\"Number of neighbors\")\n",
    "plt.ylabel(\"p-value\")\n",
    "\n",
    "plt.axhline(y=0.05, color='r', linestyle='--', label=r'$\\alpha = 0.05$')\n",
    "\n",
    "plt.legend()\n",
    "plt.savefig(f\"T_TEST_FOOD.svg\",\n",
    "        transparent=True, format=\"svg\", bbox_inches=\"tight\")\n",
    "plt.show()\n",
    "plt.clf()"
   ]
  },
  {
   "cell_type": "markdown",
   "metadata": {},
   "source": [
    "### ANCOVA: food per step\n",
    "Create figure and save it"
   ]
  },
  {
   "cell_type": "code",
   "execution_count": null,
   "metadata": {},
   "outputs": [],
   "source": [
    "p_values = {i: f_oneway(df0_5_food[i], df1_5_food[i], df3_food[i], df6_food[i])[1] for i in range(19)}\n",
    "\n",
    "\n",
    "fig, ax = plt.subplots()\n",
    "ax.plot(np.arange(19), list(p_values.values()))\n",
    "ax.axhline(y=0.05, color='r', linestyle='--', label='Significance Level (α=0.05)')\n",
    "\n",
    "ax.set_xlabel('Number of neighbors')\n",
    "ax.set_ylabel('p-value')\n",
    "ax.legend()\n",
    "plt.xticks(np.arange(19))\n",
    "plt.title('ANOVA p-values for foodperstep')\n",
    "plt.savefig(f\"ANOVA_food_per_step.svg\",\n",
    "        transparent=True, format=\"svg\", bbox_inches=\"tight\")\n",
    "plt.show()\n"
   ]
  },
  {
   "cell_type": "markdown",
   "metadata": {},
   "source": [
    "## Tests for fish vision"
   ]
  },
  {
   "cell_type": "code",
   "execution_count": null,
   "metadata": {},
   "outputs": [],
   "source": [
    "# load data\n",
    "df2_vision = pd.read_csv(\"data/fishvision=2.csv\", index_col=False, header=None)\n",
    "df4_vision = pd.read_csv(\"data/fishvision=4.csv\", index_col=False, header=None)\n",
    "df6_vision = pd.read_csv(\"data/fishvision=6.csv\", index_col=False, header=None)"
   ]
  },
  {
   "cell_type": "code",
   "execution_count": null,
   "metadata": {},
   "outputs": [],
   "source": [
    "dfs = [df2_vision, df4_vision, df6_vision]\n",
    "dataset = [[preform_t_test(dfs[j], dfs[j+1], i) for i in range(19)] for j in range(2)]"
   ]
  },
  {
   "cell_type": "markdown",
   "metadata": {},
   "source": [
    "Plot the figure and save it"
   ]
  },
  {
   "cell_type": "code",
   "execution_count": null,
   "metadata": {},
   "outputs": [],
   "source": [
    "plt.xticks(np.arange(19))\n",
    "\n",
    "plt.title(\"T-test for different amount of neighbors among 2 indepentent groups\")\n",
    "plt.plot(dataset[0], label = \"comparison fish vision of 2 and 4\")\n",
    "plt.plot(dataset[1], label = \"comparison fish vision of 4 and 6\")\n",
    "\n",
    "plt.xlabel(\"Number of neighbors\")\n",
    "plt.ylabel(\"p-value\")\n",
    "\n",
    "plt.axhline(y=0.05, color='r', linestyle='--', label=r'$\\alpha = 0.05$')\n",
    "\n",
    "plt.legend()\n",
    "plt.savefig(f\"T_TEST_VISION.svg\",\n",
    "        transparent=True, format=\"svg\", bbox_inches=\"tight\")\n",
    "plt.show()\n",
    "plt.clf()"
   ]
  },
  {
   "cell_type": "code",
   "execution_count": null,
   "metadata": {},
   "outputs": [],
   "source": [
    "p_values = {i: f_oneway(df2_vision[i], df4_vision[i], df6_vision[i])[1] for i in range(19)}\n",
    "\n",
    "fig, ax = plt.subplots()\n",
    "ax.plot(np.arange(19), list(p_values.values()))\n",
    "ax.axhline(y=0.05, color='r', linestyle='--', label='Significance Level (α=0.05)')\n",
    "\n",
    "ax.set_xlabel('Number of neighbors')\n",
    "ax.set_ylabel('p-value')\n",
    "ax.legend()\n",
    "plt.xticks(np.arange(19))\n",
    "plt.title('ANOVA p-values for fishvision')\n",
    "plt.savefig(f\"ANOVA_vision.svg\",\n",
    "        transparent=True, format=\"svg\", bbox_inches=\"tight\")\n"
   ]
  },
  {
   "cell_type": "markdown",
   "metadata": {},
   "source": [
    "Since fish with more then 10 neighbors are quite rare we took the average of the tuna with neighbors ranging between 0 and 10."
   ]
  },
  {
   "cell_type": "code",
   "execution_count": null,
   "metadata": {},
   "outputs": [],
   "source": [
    "p_values = [f_oneway(df0_5_food[i], df1_5_food[i], df3_food[i], df6_food[i])[1] for i in range(10)]\n",
    "print(f\"The mean of the first 10: p-values for ANOVA food per step: {np.mean(p_values)}\")\n",
    "\n",
    "p_values = [f_oneway(df2_vision[i], df4_vision[i], df6_vision[i])[1] for i in range(10)]\n",
    "print(f\"The mean of the first 10: p-values for ANOVA vision: {np.mean((p_values))}\")"
   ]
  }
 ],
 "metadata": {
  "kernelspec": {
   "display_name": "Python 3",
   "language": "python",
   "name": "python3"
  },
  "language_info": {
   "codemirror_mode": {
    "name": "ipython",
    "version": 3
   },
   "file_extension": ".py",
   "mimetype": "text/x-python",
   "name": "python",
   "nbconvert_exporter": "python",
   "pygments_lexer": "ipython3",
   "version": "3.10.4"
  },
  "orig_nbformat": 4
 },
 "nbformat": 4,
 "nbformat_minor": 2
}
